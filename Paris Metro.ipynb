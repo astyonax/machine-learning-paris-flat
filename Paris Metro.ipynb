{
 "cells": [
  {
   "cell_type": "code",
   "execution_count": 33,
   "metadata": {
    "collapsed": true
   },
   "outputs": [],
   "source": [
    "from bs4 import BeautifulSoup as BS\n",
    "from string import atoi"
   ]
  },
  {
   "cell_type": "code",
   "execution_count": 2,
   "metadata": {
    "collapsed": true
   },
   "outputs": [],
   "source": [
    "# open the pre-download wiki page of paris metro stations \n",
    "# https://en.wikipedia.org/wiki/List_of_stations_of_the_Paris_M%C3%A9tro\n",
    "wikilist = open('data/List_of_stations_of_the_Paris_Métro','r').read()"
   ]
  },
  {
   "cell_type": "code",
   "execution_count": 3,
   "metadata": {
    "collapsed": true
   },
   "outputs": [],
   "source": [
    "wikibs = BS(wikilist)"
   ]
  },
  {
   "cell_type": "code",
   "execution_count": 53,
   "metadata": {
    "collapsed": false
   },
   "outputs": [],
   "source": [
    "easylist = []\n",
    "for row in wikibs.table.findAll('tr')[1:]:\n",
    "    station0 = row.th.text.split('!')[0]\n",
    "    station = row.th.text.split('!')[0]\n",
    "    station = station.split(u'–')\n",
    "    station = [j.strip() for j in station]\n",
    "    \n",
    "    zone = row.findAll('td')[3].text\n",
    "    \n",
    "    arr0 = row.findAll('td')[4].text.split('!')[0]\n",
    "    arr = row.findAll('td')[4].text.split('!')[0]\n",
    "    arr = arr.replace('&',',')\n",
    "    arr = arr.split(',')\n",
    "    arr = [j.strip() for j in arr if j]\n",
    "    \n",
    "    try:\n",
    "        arr = [atoi(j.strip()) for j in arr]\n",
    "    except:\n",
    "        if not isinstance(arr,list):\n",
    "            arr = [arr,]\n",
    "        \n",
    "    \n",
    "    #print extended list\n",
    "    for stat in station:\n",
    "        for ar in arr:\n",
    "            if  '1' in zone :\n",
    "                easylist.append(( stat,ar,station0,arr0))\n",
    "#     break "
   ]
  },
  {
   "cell_type": "code",
   "execution_count": 54,
   "metadata": {
    "collapsed": false
   },
   "outputs": [],
   "source": [
    "import cPickle as pkl\n",
    "pkl.dump(easylist,open('data/metroParis.pkl','wb'))"
   ]
  },
  {
   "cell_type": "code",
   "execution_count": 55,
   "metadata": {
    "collapsed": false
   },
   "outputs": [
    {
     "name": "stdout",
     "output_type": "stream",
     "text": [
      "[(u'Abbesses', 18, u'Abbesses', u'18'), (u'Alesia', 14, u'Alesia ', u'14'), (u'Alexandre Dumas', 11, u'Alexandre Dumas', u'11 & 20'), (u'Alexandre Dumas', 20, u'Alexandre Dumas', u'11 & 20'), (u'Alma', 16, u'Alma \\u2013 Marceau', u'16'), (u'Marceau', 16, u'Alma \\u2013 Marceau', u'16'), (u'Anvers', 9, u'Anvers', u'9 & 18'), (u'Anvers', 18, u'Anvers', u'9 & 18'), (u'Argentine', 16, u'Argentine', u'16 & 17'), (u'Argentine', 17, u'Argentine', u'16 & 17'), (u'Arts et M\\xe9tiers', 3, u'Arts et M\\xe9tiers', u'3'), (u'Assembl\\xe9e Nationale', 7, u'Assembl\\xe9e Nationale', u'7'), (u'Aubervilliers', u'Aubervilliers', u'Aubervilliers \\u2013 Pantin \\u2013 Quatre Chemins', u'Aubervilliers'), (u'Pantin', u'Aubervilliers', u'Aubervilliers \\u2013 Pantin \\u2013 Quatre Chemins', u'Aubervilliers'), (u'Quatre Chemins', u'Aubervilliers', u'Aubervilliers \\u2013 Pantin \\u2013 Quatre Chemins', u'Aubervilliers'), (u'Avenue \\xc9mile Zola', 15, u'Avenue \\xc9mile Zola', u'15'), (u'Avron', 11, u'Avron', u'11 & 20'), (u'Avron', 20, u'Avron', u'11 & 20'), (u'Balard', 15, u'Balard', u'15'), (u'Barb\\xe8s', 9, u'Barb\\xe8s \\u2013 Rochechouart', u'9, 10, 18'), (u'Barb\\xe8s', 10, u'Barb\\xe8s \\u2013 Rochechouart', u'9, 10, 18'), (u'Barb\\xe8s', 18, u'Barb\\xe8s \\u2013 Rochechouart', u'9, 10, 18'), (u'Rochechouart', 9, u'Barb\\xe8s \\u2013 Rochechouart', u'9, 10, 18'), (u'Rochechouart', 10, u'Barb\\xe8s \\u2013 Rochechouart', u'9, 10, 18'), (u'Rochechouart', 18, u'Barb\\xe8s \\u2013 Rochechouart', u'9, 10, 18'), (u'Basilique de Saint-Denis', u'Saint-Denis', u'Basilique de Saint-Denis', u'Saint-Denis'), (u'Bastille', 4, u'Bastille', u'4, 11, 12'), (u'Bastille', 11, u'Bastille', u'4, 11, 12'), (u'Bastille', 12, u'Bastille', u'4, 11, 12'), (u'Bel-Air', 12, u'Bel-Air', u'12'), (u'Belleville', 10, u'Belleville', u'10, 11, 19, 20'), (u'Belleville', 11, u'Belleville', u'10, 11, 19, 20'), (u'Belleville', 19, u'Belleville', u'10, 11, 19, 20'), (u'Belleville', 20, u'Belleville', u'10, 11, 19, 20'), (u'Biblioth\\xe8que Fran\\xe7ois Mitterrand', 13, u'Biblioth\\xe8que Fran\\xe7ois Mitterrand', u'13'), (u'Billancourt', u'Boulogne-Billancourt', u'Billancourt', u'Boulogne-Billancourt'), (u'Bir-Hakeim', 15, u'Bir-Hakeim', u'15'), (u'Blanche', 9, u'Blanche', u'9, 18'), (u'Blanche', 18, u'Blanche', u'9, 18'), (u'Bobigny', u'Bobigny', u'Bobigny \\u2013 Pablo Picasso', u'Bobigny'), (u'Pablo Picasso', u'Bobigny', u'Bobigny \\u2013 Pablo Picasso', u'Bobigny'), (u'Boissi\\xe8re', 16, u'Boissi\\xe8re', u'16'), (u'Bolivar', 19, u'Bolivar', u'19'), (u'Bonne Nouvelle', 2, u'Bonne Nouvelle', u'2, 9, 10'), (u'Bonne Nouvelle', 9, u'Bonne Nouvelle', u'2, 9, 10'), (u'Bonne Nouvelle', 10, u'Bonne Nouvelle', u'2, 9, 10'), (u'Botzaris', 19, u'Botzaris', u'19'), (u'Boucicaut', 15, u'Boucicaut', u'15'), (u'Bourse', 2, u'Bourse', u'2'), (u'Br\\xe9guet', 11, u'Br\\xe9guet \\u2013 Sabin', u'11 '), (u'Sabin', 11, u'Br\\xe9guet \\u2013 Sabin', u'11 '), (u'Brochant', 17, u'Brochant', u'17'), (u'Buttes Chaumont', 19, u'Buttes Chaumont', u'19'), (u'Buzenval', 20, u'Buzenval', u'20'), (u'Cadet', 9, u'Cadet', u'9'), (u'Cambronne', 15, u'Cambronne', u'15'), (u'Campo Formio', 13, u'Campo Formio', u'13'), (u'Cardinal Lemoine', 5, u'Cardinal Lemoine', u'5'), (u'Carrefour Pleyel', u'Saint-Denis', u'Carrefour Pleyel', u'Saint-Denis'), (u'Censier', 5, u'Censier \\u2013 Daubenton', u'5'), (u'Daubenton', 5, u'Censier \\u2013 Daubenton', u'5'), (u'Champs-\\xc9lys\\xe9es', 8, u'Champs-\\xc9lys\\xe9es \\u2013 Clemenceau', u'8'), (u'Clemenceau', 8, u'Champs-\\xc9lys\\xe9es \\u2013 Clemenceau', u'8'), (u'Chardon Lagache', 16, u'Chardon Lagache', u'16'), (u'Charenton', u'Charenton-le-Pont', u'Charenton \\u2013 \\xc9coles', u'Charenton-le-Pont'), (u'\\xc9coles', u'Charenton-le-Pont', u'Charenton \\u2013 \\xc9coles', u'Charenton-le-Pont'), (u'Charles de Gaulle', 8, u'Charles de Gaulle \\u2013 \\xc9toile', u'8, 16, 17'), (u'Charles de Gaulle', 16, u'Charles de Gaulle \\u2013 \\xc9toile', u'8, 16, 17'), (u'Charles de Gaulle', 17, u'Charles de Gaulle \\u2013 \\xc9toile', u'8, 16, 17'), (u'\\xc9toile', 8, u'Charles de Gaulle \\u2013 \\xc9toile', u'8, 16, 17'), (u'\\xc9toile', 16, u'Charles de Gaulle \\u2013 \\xc9toile', u'8, 16, 17'), (u'\\xc9toile', 17, u'Charles de Gaulle \\u2013 \\xc9toile', u'8, 16, 17'), (u'Charles Michels', 15, u'Charles Michels', u'15'), (u'Charonne', 11, u'Charonne', u'11 '), (u\"Ch\\xe2teau d'Eau\", 10, u\"Ch\\xe2teau d'Eau\", u'10'), (u'Ch\\xe2teau-Landon', 19, u'Ch\\xe2teau-Landon', u'19'), (u'Ch\\xe2teau Rouge', 18, u'Ch\\xe2teau Rouge', u'18'), (u'Ch\\xe2telet', 1, u'Ch\\xe2telet', u'1 & 4'), (u'Ch\\xe2telet', 4, u'Ch\\xe2telet', u'1 & 4'), (u'Ch\\xe2tillon', u'Ch\\xe2tillon', u'Ch\\xe2tillon \\u2013 Montrouge', u'Ch\\xe2tillon,\\nMontrouge'), (u'Ch\\xe2tillon', u'Montrouge', u'Ch\\xe2tillon \\u2013 Montrouge', u'Ch\\xe2tillon,\\nMontrouge'), (u'Montrouge', u'Ch\\xe2tillon', u'Ch\\xe2tillon \\u2013 Montrouge', u'Ch\\xe2tillon,\\nMontrouge'), (u'Montrouge', u'Montrouge', u'Ch\\xe2tillon \\u2013 Montrouge', u'Ch\\xe2tillon,\\nMontrouge'), (u\"Chauss\\xe9e d'Antin\", 9, u\"Chauss\\xe9e d'Antin \\u2013 La Fayette\", u'9'), (u'La Fayette', 9, u\"Chauss\\xe9e d'Antin \\u2013 La Fayette\", u'9'), (u'Chemin Vert', 9, u'Chemin Vert', u'9 & 11'), (u'Chemin Vert', 11, u'Chemin Vert', u'9 & 11'), (u'Chevaleret', 13, u'Chevaleret', u'13'), (u'Cit\\xe9', 4, u'Cit\\xe9', u'4'), (u'Cluny', 5, u'Cluny \\u2013 La Sorbonne', u'5'), (u'La Sorbonne', 5, u'Cluny \\u2013 La Sorbonne', u'5'), (u'Colonel Fabien', 10, u'Colonel Fabien', u'10 & 19'), (u'Colonel Fabien', 19, u'Colonel Fabien', u'10 & 19'), (u'Commerce', 15, u'Commerce', u'15'), (u'Concorde', 1, u'Concorde', u'1 & 8'), (u'Concorde', 8, u'Concorde', u'1 & 8'), (u'Convention', 15, u'Convention', u'15'), (u'Corentin Cariou', 19, u'Corentin Cariou', u'19'), (u'Corvisart', 13, u'Corvisart', u'13'), (u'Cour Saint-\\xc9milion', 12, u'Cour Saint-\\xc9milion', u'12'), (u'Courcelles', 8, u'Courcelles', u'8 & 17'), (u'Courcelles', 17, u'Courcelles', u'8 & 17'), (u'Couronnes', 11, u'Couronnes', u'11 '), (u'Cr\\xe9teil', u'Cr\\xe9teil', u\"Cr\\xe9teil \\u2013 L'\\xc9chat\", u'Cr\\xe9teil'), (u\"L'\\xc9chat\", u'Cr\\xe9teil', u\"Cr\\xe9teil \\u2013 L'\\xc9chat\", u'Cr\\xe9teil'), (u'Cr\\xe9teil', u'Cr\\xe9teil', u'Cr\\xe9teil \\u2013 Pr\\xe9fecture', u'Cr\\xe9teil'), (u'Pr\\xe9fecture', u'Cr\\xe9teil', u'Cr\\xe9teil \\u2013 Pr\\xe9fecture', u'Cr\\xe9teil'), (u'Cr\\xe9teil', u'Cr\\xe9teil', u'Cr\\xe9teil \\u2013 Universit\\xe9', u'Cr\\xe9teil'), (u'Universit\\xe9', u'Cr\\xe9teil', u'Cr\\xe9teil \\u2013 Universit\\xe9', u'Cr\\xe9teil'), (u'Crim\\xe9e', 19, u'Crim\\xe9e', u'19'), (u'Croix de Chavaux', u'Montreuil', u'Croix de Chavaux', u'Montreuil'), (u'Danube', 19, u'Danube', u'19'), (u'Daumesnil', 12, u'Daumesnil', u'12'), (u'Denfert-Rochereau', 14, u'Denfert-Rochereau', u'14'), (u'Dugommier', 12, u'Dugommier', u'12'), (u'Dupleix', 15, u'Dupleix', u'15'), (u'Duroc', 6, u'Duroc', u'6, 7, 15'), (u'Duroc', 7, u'Duroc', u'6, 7, 15'), (u'Duroc', 15, u'Duroc', u'6, 7, 15'), (u'Ecole Militaire', 7, u'Ecole Militaire ', u'7'), (u'Ecole V\\xe9t\\xe9rinaire de Maisons-Alfort', u'Maisons-Alfort', u'Ecole V\\xe9t\\xe9rinaire de Maisons-Alfort ', u'Maisons-Alfort'), (u'Edgar Quinet', 14, u'Edgar Quinet', u'14'), (u\"Eglise d'Auteuil\", 16, u\"Eglise d'Auteuil \", u'16'), (u'Eglise de Pantin', u'Pantin', u'Eglise de Pantin ', u'Pantin'), (u'Etienne Marcel', 1, u'Etienne Marcel ', u'1 & 2'), (u'Etienne Marcel', 2, u'Etienne Marcel ', u'1 & 2'), (u'Europe', 8, u'Europe', u'8'), (u'Exelmans', 16, u'Exelmans', u'16'), (u'Faidherbe', 11, u'Faidherbe \\u2013 Chaligny', u'11 '), (u'Chaligny', 11, u'Faidherbe \\u2013 Chaligny', u'11 '), (u'Falgui\\xe8re', 15, u'Falgui\\xe8re', u'15'), (u'F\\xe9lix Faure', 15, u'F\\xe9lix Faure', u'15'), (u'Filles du Calvaire', 3, u'Filles du Calvaire', u'3 & 11'), (u'Filles du Calvaire', 11, u'Filles du Calvaire', u'3 & 11'), (u'Franklin D. Roosevelt', 8, u'Franklin D. Roosevelt', u'8'), (u'Ga\\xeet\\xe9', 14, u'Ga\\xeet\\xe9', u'14'), (u'Gallieni', u'Bagnolet', u'Gallieni', u'Bagnolet'), (u'Gambetta', 20, u'Gambetta', u'20'), (u\"Gare d'Austerlitz\", 5, u\"Gare d'Austerlitz\", u'5 & 13'), (u\"Gare d'Austerlitz\", 13, u\"Gare d'Austerlitz\", u'5 & 13'), (u\"Gare de l'Est\", 10, u\"Gare de l'Est\", u'10'), (u'Gare de Lyon', 12, u'Gare de Lyon', u'12'), (u'Gare du Nord', 10, u'Gare du Nord', u'10'), (u'George V', 8, u'George V', u'8'), (u'Glaci\\xe8re', 13, u'Glaci\\xe8re', u'13'), (u'Goncourt', 10, u'Goncourt', u'10 & 11'), (u'Goncourt', 11, u'Goncourt', u'10 & 11'), (u'Grands Boulevards', 2, u'Grands Boulevards', u'2 & 9'), (u'Grands Boulevards', 9, u'Grands Boulevards', u'2 & 9'), (u'Guy M\\xf4quet', 17, u'Guy M\\xf4quet', u'17 & 18'), (u'Guy M\\xf4quet', 18, u'Guy M\\xf4quet', u'17 & 18'), (u'Havre', 9, u'Havre \\u2013 Caumartin', u'9'), (u'Caumartin', 9, u'Havre \\u2013 Caumartin', u'9'), (u'H\\xf4tel de Ville', 4, u'H\\xf4tel de Ville', u'4'), (u'Invalides', 7, u'Invalides', u'7'), (u'Jacques Bonsergent', 10, u'Jacques Bonsergent', u'10'), (u'Jasmin', 16, u'Jasmin', u'16'), (u'Jaur\\xe8s', 10, u'Jaur\\xe8s', u'10, 19'), (u'Jaur\\xe8s', 19, u'Jaur\\xe8s', u'10, 19'), (u'Javel', 15, u'Javel \\u2013 Andr\\xe9 Citro\\xebn', u'15'), (u'Andr\\xe9 Citro\\xebn', 15, u'Javel \\u2013 Andr\\xe9 Citro\\xebn', u'15'), (u'Jourdain', 19, u'Jourdain', u'19, 20'), (u'Jourdain', 20, u'Jourdain', u'19, 20'), (u'Jules Joffrin', 18, u'Jules Joffrin', u'18'), (u'Jussieu', 5, u'Jussieu', u'5'), (u'Kl\\xe9ber', 16, u'Kl\\xe9ber', u'16'), (u'La Chapelle', 10, u'La Chapelle', u'10 & 18'), (u'La Chapelle', 18, u'La Chapelle', u'10 & 18'), (u'La Fourche', 17, u'La Fourche', u'17 & 18'), (u'La Fourche', 18, u'La Fourche', u'17 & 18'), (u'La Motte-Picquet', 15, u'La Motte-Picquet \\u2013 Grenelle', u'15'), (u'Grenelle', 15, u'La Motte-Picquet \\u2013 Grenelle', u'15'), (u'La Muette', 16, u'La Muette', u'16'), (u'La Tour-Maubourg', 7, u'La Tour-Maubourg', u'7'), (u'Lamarck', 18, u'Lamarck \\u2013 Caulaincourt', u'18'), (u'Caulaincourt', 18, u'Lamarck \\u2013 Caulaincourt', u'18'), (u'Laumi\\xe8re', 19, u'Laumi\\xe8re', u'19'), (u'Le Peletier', 9, u'Le Peletier', u'9'), (u'Ledru-Rollin', 11, u'Ledru-Rollin', u'11 '), (u'Les Gobelins', 5, u'Les Gobelins', u'5 & 13'), (u'Les Gobelins', 13, u'Les Gobelins', u'5 & 13'), (u'Les Halles', 1, u'Les Halles', u'1'), (u'Libert\\xe9', u'Charenton-le-Pont', u'Libert\\xe9', u'Charenton-le-Pont'), (u'Li\\xe8ge', 8, u'Li\\xe8ge', u'8 & 9'), (u'Li\\xe8ge', 9, u'Li\\xe8ge', u'8 & 9'), (u'Louis Blanc', 10, u'Louis Blanc', u'10'), (u'Lourmel', 15, u'Lourmel', u'15'), (u'Louvre', 1, u'Louvre \\u2013 Rivoli', u'1'), (u'Rivoli', 1, u'Louvre \\u2013 Rivoli', u'1'), (u'Mabillon', 6, u'Mabillon', u'6'), (u'Madeleine', 8, u'Madeleine', u'8'), (u\"Mairie d'Ivry\", u'Ivry-sur-Seine', u\"Mairie d'Ivry\", u'Ivry-sur-Seine'), (u'Mairie de Montreuil', u'Montreuil', u'Mairie de Montreuil', u'Montreuil'), (u'Mairie de Montrouge', u'Montrouge', u'Mairie de Montrouge', u'Montrouge'), (u'Mairie de Saint-Ouen', u'Saint-Ouen', u'Mairie de Saint-Ouen', u'Saint-Ouen, Seine-Saint-Denis'), (u'Mairie de Saint-Ouen', u'Seine-Saint-Denis', u'Mairie de Saint-Ouen', u'Saint-Ouen, Seine-Saint-Denis'), (u'Mairie des Lilas', u'Les Lilas', u'Mairie des Lilas', u'Les Lilas'), (u'Maison Blanche', 13, u'Maison Blanche', u'13'), (u'Maisons-Alfort', u'Maisons-Alfort', u'Maisons-Alfort \\u2013 Les Juilliottes', u'Maisons-Alfort'), (u'Les Juilliottes', u'Maisons-Alfort', u'Maisons-Alfort \\u2013 Les Juilliottes', u'Maisons-Alfort'), (u'Maisons-Alfort', u'Maisons-Alfort', u'Maisons-Alfort \\u2013 Stade', u'Maisons-Alfort'), (u'Stade', u'Maisons-Alfort', u'Maisons-Alfort \\u2013 Stade', u'Maisons-Alfort'), (u'Malakoff', u'Malakoff', u'Malakoff \\u2013 Plateau de Vanves', u'Malakoff'), (u'Plateau de Vanves', u'Malakoff', u'Malakoff \\u2013 Plateau de Vanves', u'Malakoff'), (u'Malakoff', u'Malakoff', u'Malakoff \\u2013 Rue \\xc9tienne Dolet', u'Malakoff'), (u'Rue \\xc9tienne Dolet', u'Malakoff', u'Malakoff \\u2013 Rue \\xc9tienne Dolet', u'Malakoff'), (u'Malesherbes', 17, u'Malesherbes', u'17'), (u'Mara\\xeechers', 20, u'Mara\\xeechers', u'20'), (u'Marcadet', 18, u'Marcadet \\u2013 Poissonniers', u'18'), (u'Poissonniers', 18, u'Marcadet \\u2013 Poissonniers', u'18'), (u'Marcel Sembat', u'Boulogne-Billancourt', u'Marcel Sembat', u'Boulogne-Billancourt'), (u'Marx Dormoy', 18, u'Marx Dormoy', u'18'), (u'Maubert-Mutualit\\xe9', 5, u'Maubert-Mutualit\\xe9', u'5'), (u'M\\xe9nilmontant', 11, u'M\\xe9nilmontant', u'11 '), (u'Michel Bizot', 12, u'Michel Bizot', u'12'), (u'Michel-Ange', 16, u'Michel-Ange \\u2013 Auteuil', u'16'), (u'Auteuil', 16, u'Michel-Ange \\u2013 Auteuil', u'16'), (u'Michel-Ange', 16, u'Michel-Ange \\u2013 Molitor', u'16'), (u'Molitor', 16, u'Michel-Ange \\u2013 Molitor', u'16'), (u'Mirabeau', 16, u'Mirabeau', u'16'), (u'Miromesnil', 8, u'Miromesnil', u'8'), (u'Monceau', 8, u'Monceau', u'8 & 17'), (u'Monceau', 17, u'Monceau', u'8 & 17'), (u'Montgallet', 12, u'Montgallet', u'12'), (u'Montparnasse', 6, u'Montparnasse \\u2013 Bienven\\xfce', u'6, 14, 15'), (u'Montparnasse', 14, u'Montparnasse \\u2013 Bienven\\xfce', u'6, 14, 15'), (u'Montparnasse', 15, u'Montparnasse \\u2013 Bienven\\xfce', u'6, 14, 15'), (u'Bienven\\xfce', 6, u'Montparnasse \\u2013 Bienven\\xfce', u'6, 14, 15'), (u'Bienven\\xfce', 14, u'Montparnasse \\u2013 Bienven\\xfce', u'6, 14, 15'), (u'Bienven\\xfce', 15, u'Montparnasse \\u2013 Bienven\\xfce', u'6, 14, 15'), (u'Mouton-Duvernet', 14, u'Mouton-Duvernet', u'14'), (u'Nation', 11, u'Nation', u'11 '), (u'Nationale', 13, u'Nationale', u'13'), (u'Notre-Dame-de-Lorette', 9, u'Notre-Dame-de-Lorette', u'9'), (u'Notre-Dame-des-Champs', 6, u'Notre-Dame-des-Champs', u'6'), (u'Oberkampf', 11, u'Oberkampf', u'11 '), (u'Od\\xe9on', 6, u'Od\\xe9on', u'6'), (u'Olympiades', 13, u'Olympiades', u'13'), (u'Op\\xe9ra', 2, u'Op\\xe9ra', u'2 & 9'), (u'Op\\xe9ra', 9, u'Op\\xe9ra', u'2 & 9'), (u'Ourcq', 19, u'Ourcq', u'19'), (u'Palais Royal', 1, u'Palais Royal \\u2013 Mus\\xe9e du Louvre', u'1'), (u'Mus\\xe9e du Louvre', 1, u'Palais Royal \\u2013 Mus\\xe9e du Louvre', u'1'), (u'Parmentier', 11, u'Parmentier', u'11 '), (u'Passy', 16, u'Passy', u'16 '), (u'Pasteur', 15, u'Pasteur', u'15'), (u'Pelleport', 20, u'Pelleport', u'20'), (u'P\\xe8re Lachaise', 11, u'P\\xe8re Lachaise', u'11 & 20'), (u'P\\xe8re Lachaise', 20, u'P\\xe8re Lachaise', u'11 & 20'), (u'Pereire', 17, u'Pereire', u'17'), (u'Pernety', 14, u'Pernety', u'14'), (u'Philippe Auguste', 11, u'Philippe Auguste', u'11 & 20'), (u'Philippe Auguste', 20, u'Philippe Auguste', u'11 & 20'), (u'Picpus', 12, u'Picpus', u'12'), (u'Pierre et Marie Curie', u'Ivry-sur-Seine', u'Pierre et Marie Curie', u'Ivry-sur-Seine'), (u'Pigalle', 9, u'Pigalle', u'9 & 18'), (u'Pigalle', 18, u'Pigalle', u'9 & 18'), (u\"Place d'Italie\", 13, u\"Place d'Italie\", u'13'), (u'Place de Clichy', 8, u'Place de Clichy', u'8, 9, 17, 18'), (u'Place de Clichy', 9, u'Place de Clichy', u'8, 9, 17, 18'), (u'Place de Clichy', 17, u'Place de Clichy', u'8, 9, 17, 18'), (u'Place de Clichy', 18, u'Place de Clichy', u'8, 9, 17, 18'), (u'Place des F\\xeates', 19, u'Place des F\\xeates', u'19'), (u'Place Monge', 5, u'Place Monge', u'5'), (u'Plaisance', 14, u'Plaisance', u'14'), (u'Pointe du Lac', u'Cr\\xe9teil', u'Pointe du Lac', u'Cr\\xe9teil'), (u'Poissonni\\xe8re', 9, u'Poissonni\\xe8re', u'9 & 10'), (u'Poissonni\\xe8re', 10, u'Poissonni\\xe8re', u'9 & 10'), (u'Pont de S\\xe8vres', u'Boulogne-Billancourt', u'Pont de S\\xe8vres', u'Boulogne-Billancourt'), (u'Pont Marie', 4, u'Pont Marie', u'4'), (u'Pont Neuf', 1, u'Pont Neuf', u'1'), (u'Porte d Auteuil', 16, u'Porte d Auteuil ', u'16'), (u'Porte d Italie', 13, u'Porte d Italie ', u'13'), (u'Porte d Ivry', 13, u'Porte d Ivry ', u'13'), (u'Porte d Orleans', 14, u'Porte d Orleans ', u'14'), (u'Porte Dauphine', 16, u'Porte Dauphine', u'16'), (u'Porte de Bagnolet', 20, u'Porte de Bagnolet', u'20'), (u'Porte de Champerret', 17, u'Porte de Champerret', u'17'), (u'Porte de Charenton', 12, u'Porte de Charenton', u'12'), (u'Porte de Choisy', 13, u'Porte de Choisy', u'13'), (u'Porte de Clichy', 17, u'Porte de Clichy', u'17'), (u'Porte de Clignancourt', 18, u'Porte de Clignancourt', u'18'), (u'Porte de la Chapelle', 18, u'Porte de la Chapelle', u'18'), (u'Porte de la Villette', 19, u'Porte de la Villette', u'19'), (u'Porte de Montreuil', 20, u'Porte de Montreuil', u'20'), (u'Porte de Pantin', 19, u'Porte de Pantin', u'19'), (u'Porte de Saint-Cloud', 16, u'Porte de Saint-Cloud', u'16'), (u'Porte de Saint-Ouen', 17, u'Porte de Saint-Ouen', u'17 & 18'), (u'Porte de Saint-Ouen', 18, u'Porte de Saint-Ouen', u'17 & 18'), (u'Porte de Vanves', 14, u'Porte de Vanves', u'14'), (u'Porte de Versailles', 15, u'Porte de Versailles', u'15'), (u'Porte de Vincennes', 12, u'Porte de Vincennes', u'12 & 20'), (u'Porte de Vincennes', 20, u'Porte de Vincennes', u'12 & 20'), (u'Porte des Lilas', 19, u'Porte des Lilas', u'19 & 20'), (u'Porte des Lilas', 20, u'Porte des Lilas', u'19 & 20'), (u'Porte Dor\\xe9e', 12, u'Porte Dor\\xe9e', u'12'), (u'Porte Maillot', 16, u'Porte Maillot', u'16 & 17'), (u'Porte Maillot', 17, u'Porte Maillot', u'16 & 17'), (u'Pr\\xe9 Saint-Gervais', 19, u'Pr\\xe9 Saint-Gervais', u'19'), (u'Pyramides', 1, u'Pyramides', u'1'), (u'Pyr\\xe9n\\xe9es', 19, u'Pyr\\xe9n\\xe9es', u'19 & 20'), (u'Pyr\\xe9n\\xe9es', 20, u'Pyr\\xe9n\\xe9es', u'19 & 20'), (u'Quai de la Gare', 13, u'Quai de la Gare', u'13'), (u'Quai de la Rap\\xe9e', 12, u'Quai de la Rap\\xe9e', u'12'), (u'Quatre-Septembre', 2, u'Quatre-Septembre', u'2'), (u'Rambuteau', 3, u'Rambuteau', u'3 & 4'), (u'Rambuteau', 4, u'Rambuteau', u'3 & 4'), (u'Ranelagh', 16, u'Ranelagh', u'16'), (u'Raspail', 14, u'Raspail', u'14'), (u'Reaumur', 2, u'Reaumur ', u'2 & 3'), (u'Reaumur', 3, u'Reaumur ', u'2 & 3'), (u'Rennes', 6, u'Rennes', u'6'), (u'R\\xe9publique', 3, u'R\\xe9publique', u'3, 10, 11'), (u'R\\xe9publique', 10, u'R\\xe9publique', u'3, 10, 11'), (u'R\\xe9publique', 11, u'R\\xe9publique', u'3, 10, 11'), (u'Reuilly', 12, u'Reuilly \\u2013 Diderot', u'12'), (u'Diderot', 12, u'Reuilly \\u2013 Diderot', u'12'), (u'Richard-Lenoir', 11, u'Richard-Lenoir', u'11 '), (u'Richelieu', 2, u'Richelieu \\u2013 Drouot', u'2 & 9'), (u'Richelieu', 9, u'Richelieu \\u2013 Drouot', u'2 & 9'), (u'Drouot', 2, u'Richelieu \\u2013 Drouot', u'2 & 9'), (u'Drouot', 9, u'Richelieu \\u2013 Drouot', u'2 & 9'), (u'Riquet', 19, u'Riquet', u'19'), (u'Robespierre', u'Montreuil', u'Robespierre', u'Montreuil'), (u'Rome', 8, u'Rome', u'8 & 17'), (u'Rome', 17, u'Rome', u'8 & 17'), (u'Rue de la Pompe', 16, u'Rue de la Pompe', u'16'), (u'Rue des Boulets', 11, u'Rue des Boulets', u'11'), (u'Rue du Bac', 7, u'Rue du Bac', u'7'), (u'Rue Saint-Maur', 11, u'Rue Saint-Maur', u'11'), (u'Saint-Ambroise', 11, u'Saint-Ambroise', u'11'), (u'Saint-Augustin', 8, u'Saint-Augustin', u'8'), (u'Saint-Denis', u'Saint-Denis', u'Saint-Denis \\u2013 Porte de Paris', u'Saint-Denis'), (u'Porte de Paris', u'Saint-Denis', u'Saint-Denis \\u2013 Porte de Paris', u'Saint-Denis'), (u'Saint-Denis', u'Saint-Denis', u'Saint-Denis \\u2013 Universit\\xe9', u'Saint-Denis'), (u'Universit\\xe9', u'Saint-Denis', u'Saint-Denis \\u2013 Universit\\xe9', u'Saint-Denis'), (u'Saint-Fargeau', 20, u'Saint-Fargeau', u'20'), (u'Saint-Fran\\xe7ois-Xavier', 7, u'Saint-Fran\\xe7ois-Xavier', u'7'), (u'Saint-Germain-des-Pr\\xe9s', 6, u'Saint-Germain-des-Pr\\xe9s', u'6'), (u'Saint-Georges', 9, u'Saint-Georges', u'9'), (u'Saint-Jacques', 14, u'Saint-Jacques', u'14'), (u'Saint-Lazare', 8, u'Saint-Lazare', u'8 & 9'), (u'Saint-Lazare', 9, u'Saint-Lazare', u'8 & 9'), (u'Saint-Marcel', 13, u'Saint-Marcel', u'13'), (u'Saint-Michel', 5, u'Saint-Michel', u'5 & 6'), (u'Saint-Michel', 6, u'Saint-Michel', u'5 & 6'), (u'Saint-Paul', 4, u'Saint-Paul', u'4'), (u'Saint-Philippe du Roule', 8, u'Saint-Philippe du Roule', u'8'), (u'Saint-Placide', 6, u'Saint-Placide', u'6'), (u'Saint-S\\xe9bastien', 3, u'Saint-S\\xe9bastien \\u2013 Froissart', u'3 & 11'), (u'Saint-S\\xe9bastien', 11, u'Saint-S\\xe9bastien \\u2013 Froissart', u'3 & 11'), (u'Froissart', 3, u'Saint-S\\xe9bastien \\u2013 Froissart', u'3 & 11'), (u'Froissart', 11, u'Saint-S\\xe9bastien \\u2013 Froissart', u'3 & 11'), (u'Saint-Sulpice', 6, u'Saint-Sulpice', u'6'), (u'S\\xe9gur', 7, u'S\\xe9gur', u'7 & 15'), (u'S\\xe9gur', 15, u'S\\xe9gur', u'7 & 15'), (u'Sentier', 2, u'Sentier', u'2'), (u'S\\xe8vres', 6, u'S\\xe8vres \\u2013 Babylone', u'6 & 7'), (u'S\\xe8vres', 7, u'S\\xe8vres \\u2013 Babylone', u'6 & 7'), (u'Babylone', 6, u'S\\xe8vres \\u2013 Babylone', u'6 & 7'), (u'Babylone', 7, u'S\\xe8vres \\u2013 Babylone', u'6 & 7'), (u'S\\xe8vres', 15, u'S\\xe8vres \\u2013 Lecourbe', u'15'), (u'Lecourbe', 15, u'S\\xe8vres \\u2013 Lecourbe', u'15'), (u'Simplon', 18, u'Simplon', u'18'), (u'Solf\\xe9rino', 7, u'Solf\\xe9rino', u'7'), (u'Stalingrad', 10, u'Stalingrad', u'10, 19'), (u'Stalingrad', 19, u'Stalingrad', u'10, 19'), (u'Strasbourg', 2, u'Strasbourg \\u2013 Saint-Denis', u'2, 3, 10'), (u'Strasbourg', 3, u'Strasbourg \\u2013 Saint-Denis', u'2, 3, 10'), (u'Strasbourg', 10, u'Strasbourg \\u2013 Saint-Denis', u'2, 3, 10'), (u'Saint-Denis', 2, u'Strasbourg \\u2013 Saint-Denis', u'2, 3, 10'), (u'Saint-Denis', 3, u'Strasbourg \\u2013 Saint-Denis', u'2, 3, 10'), (u'Saint-Denis', 10, u'Strasbourg \\u2013 Saint-Denis', u'2, 3, 10'), (u'Sully', 4, u'Sully \\u2013 Morland', u'4'), (u'Morland', 4, u'Sully \\u2013 Morland', u'4'), (u'T\\xe9l\\xe9graphe', 19, u'T\\xe9l\\xe9graphe', u'19 & 20'), (u'T\\xe9l\\xe9graphe', 20, u'T\\xe9l\\xe9graphe', u'19 & 20'), (u'Temple', 3, u'Temple', u'3'), (u'Ternes', 8, u'Ternes', u'8 & 17'), (u'Ternes', 17, u'Ternes', u'8 & 17'), (u'Tolbiac', 13, u'Tolbiac', u'13'), (u'Trinit\\xe9', 9, u\"Trinit\\xe9 \\u2013 d'Estienne d'Orves\", u'9'), (u\"d'Estienne d'Orves\", 9, u\"Trinit\\xe9 \\u2013 d'Estienne d'Orves\", u'9'), (u'Trocad\\xe9ro', 16, u'Trocad\\xe9ro', u'16'), (u'Tuileries', 1, u'Tuileries', u'1'), (u'Vaneau', 6, u'Vaneau', u'6 & 7'), (u'Vaneau', 7, u'Vaneau', u'6 & 7'), (u'Varenne', 7, u'Varenne', u'7'), (u'Vaugirard', 15, u'Vaugirard', u'15'), (u'Vavin', 6, u'Vavin', u'6 & 14'), (u'Vavin', 14, u'Vavin', u'6 & 14'), (u'Victor Hugo', 16, u'Victor Hugo', u'16'), (u'Villiers', 8, u'Villiers', u'8 & 17'), (u'Villiers', 17, u'Villiers', u'8 & 17'), (u'Volontaires', 15, u'Volontaires', u'15'), (u'Voltaire', 11, u'Voltaire', u'11'), (u'Wagram', 17, u'Wagram', u'17')]\n"
     ]
    }
   ],
   "source": [
    "print easylist"
   ]
  },
  {
   "cell_type": "code",
   "execution_count": null,
   "metadata": {
    "collapsed": true
   },
   "outputs": [],
   "source": []
  }
 ],
 "metadata": {
  "kernelspec": {
   "display_name": "Python 2",
   "language": "python",
   "name": "python2"
  },
  "language_info": {
   "codemirror_mode": {
    "name": "ipython",
    "version": 2
   },
   "file_extension": ".py",
   "mimetype": "text/x-python",
   "name": "python",
   "nbconvert_exporter": "python",
   "pygments_lexer": "ipython2",
   "version": "2.7.12"
  }
 },
 "nbformat": 4,
 "nbformat_minor": 0
}
