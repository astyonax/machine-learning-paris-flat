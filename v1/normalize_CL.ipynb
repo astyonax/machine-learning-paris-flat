{
 "cells": [
  {
   "cell_type": "markdown",
   "metadata": {},
   "source": [
    "# Data cleaning and formatting\n",
    "\n",
    "Here the data is cleaned and rationalized in order to cast it into a _pandas_ dataframe.\n",
    "We focus mostly into filling numerical values from literal fields (_e.g._ the floor from the description).\n",
    "**To mark an empty field, we use negative numbers.** Every numerical field has to be positive, and negative numbers are easy to filter out.\n",
    "\n",
    "However, it will happen that we need more massaging for particular plots, there is no doubt."
   ]
  },
  {
   "cell_type": "code",
   "execution_count": 6,
   "metadata": {
    "collapsed": false
   },
   "outputs": [],
   "source": [
    "import cPickle as pkl\n",
    "import copy\n",
    "dbfname = 'data/locations.pkl'\n",
    "weekdays_en=['monday','tuesday','wednesday','thursday','friday','saturday','sunday']\n",
    "paris_metro_stations = pkl.load(open('data/metroParis.pkl','rb'))\n",
    "from fuzzywuzzy import process as fwprocess\n",
    "import fuzzywuzzy as fuzwuz"
   ]
  },
  {
   "cell_type": "code",
   "execution_count": 7,
   "metadata": {
    "collapsed": false
   },
   "outputs": [
    {
     "name": "stdout",
     "output_type": "stream",
     "text": [
      "601 locations in db\n"
     ]
    }
   ],
   "source": [
    "db=pkl.load(open(dbfname,'rb'))\n",
    "print '{0:d} locations in db'.format(len(db))"
   ]
  },
  {
   "cell_type": "code",
   "execution_count": 8,
   "metadata": {
    "collapsed": false
   },
   "outputs": [
    {
     "name": "stdout",
     "output_type": "stream",
     "text": [
      "Max and min apartments records: 22 13\n",
      "you need to adjust the lenghts, somehow\n"
     ]
    }
   ],
   "source": [
    "Mlen = max(len(j) for j in db);\n",
    "mlen =  min(len(j) for j in db);\n",
    "# store the longer and the shorter for inspection\n",
    "Mj = [j for j in db if len(j)==Mlen][0]\n",
    "mj = [j for j in db if len(j)==mlen][0]\n",
    "# Mj\n",
    "print 'Max and min apartments records:', Mlen, mlen\n",
    "if Mlen != mlen:\n",
    "    print 'you need to adjust the lenghts, somehow'"
   ]
  },
  {
   "cell_type": "code",
   "execution_count": 9,
   "metadata": {
    "collapsed": false
   },
   "outputs": [
    {
     "data": {
      "text/plain": [
       "u'13th arr'"
      ]
     },
     "execution_count": 9,
     "metadata": {},
     "output_type": "execute_result"
    }
   ],
   "source": [
    "# let refine the REGEXes\n",
    "# These are very similar to the ones we used to parse the html\n",
    "# I improved re_rue, and re_arr2\n",
    "import re\n",
    "re_rue = re.compile(r'(?:rue|avenue|boulevard|bd|place) .*?[\\d,.]+[^.,]*?',re.IGNORECASE)\n",
    "re_arr1 = re.compile(r'(Paris \\d{1,2}\\s*(?:th|st|nd|rd){0,1})',re.IGNORECASE)\n",
    "re_arr2 = re.compile(r'(\\d{1,2}\\s*(?:th|st|nd|rd){0,1}\\s{0,2}arr)',re.IGNORECASE|re.MULTILINE)\n",
    "re_metro = re.compile(r'Metro\\s*(?:station|line)\\s*.+?[\\s|$]',re.IGNORECASE|re.MULTILINE)\n",
    "re_floor = re.compile(r'(?:ground|\\d+|\\d+[a-z]{2,2})\\s*floor',re.IGNORECASE|re.MULTILINE)\n",
    "\n",
    "get_floor = lambda x: ', '.join(re_floor.findall(x))\n",
    "get_metro = lambda x: ', '.join(re_metro.findall(x))\n",
    "\n",
    "def extloc(text):\n",
    "    _=''\n",
    "    for rg in (re_rue,re_arr1,re_arr2):\n",
    "        out = rg.findall(text)\n",
    "        _+=', '.join(out)\n",
    "    return _\n",
    "\n",
    "extloc(Mj[-1])"
   ]
  },
  {
   "cell_type": "code",
   "execution_count": 10,
   "metadata": {
    "collapsed": false
   },
   "outputs": [
    {
     "name": "stdout",
     "output_type": "stream",
     "text": [
      "Max and min apartments records: 19 12\n",
      "you need to adjust the lenghts, somehow\n"
     ]
    }
   ],
   "source": [
    "# shorten record removing useless info about meeting days\n",
    "#  -> we discovered this by printing Mj\n",
    "# everything else should be kept\n",
    "\n",
    "def wkinstr(x):\n",
    "    for wk in weekdays_en:\n",
    "        if wk in x:\n",
    "            return True\n",
    "    return False\n",
    "\n",
    "db2=copy.deepcopy(db)\n",
    "for j,row  in enumerate(db2):\n",
    "    db2[j]=[feature for feature in row if not wkinstr(feature)]\n",
    "                \n",
    "Mlen2 = max(len(j) for j in db2);\n",
    "mlen2 =  min(len(j) for j in db2);\n",
    "# store the longer and the shorter for inspection\n",
    "Mj2 = [j for j in db2 if len(j)==Mlen2][0]\n",
    "mj2 = [j for j in db2 if len(j)==mlen2][0]\n",
    "\n",
    "print 'Max and min apartments records:', Mlen2, mlen2\n",
    "if Mlen2 != mlen2:\n",
    "    print 'you need to adjust the lenghts, somehow'"
   ]
  },
  {
   "cell_type": "markdown",
   "metadata": {},
   "source": [
    "## Description to Metro to District\n",
    "The next two functions use fuzzy string-matching to infer \n",
    "the flat position from the metro stations matched in the text.\n",
    "\n",
    "The list of metro stations is `paris_metro_stations = [('short name',arr,'long name','all arr'),...]`\n",
    "\n",
    "The list is obtained from wikipedia, in [Paris Metro](Paris Metro.ipynb)."
   ]
  },
  {
   "cell_type": "code",
   "execution_count": 11,
   "metadata": {
    "collapsed": false
   },
   "outputs": [],
   "source": [
    "def contains(a,b):\n",
    "    # returns true if any item of a is contained in some items of b (I hope English is correct)\n",
    "    for j in a:\n",
    "        if j in b: return True\n",
    "    return False\n",
    "\n",
    "def getmetros(text):\n",
    "    # guess position from metro stations cited in text\n",
    "    # returns the list [(fuzzy score, index of the paris_metro_stations list),..] \n",
    "    #                if fuzzy score bigger than 50\n",
    "    # if a score is bigger than 99, stops and returns the one-element list [(fuzzy score, index),] \n",
    "    matches = []\n",
    "    lowtext = text.lower()\n",
    "    \n",
    "    for idx,pms in enumerate(paris_metro_stations):\n",
    "        shortname, arrondissement,longname,longarr = pms\n",
    "        score = fuzwuz.fuzz.token_set_ratio(shortname.lower(),lowtext)\n",
    "        if score > 99:\n",
    "            return [(score,idx),]\n",
    "        if score > 50:\n",
    "            matches.append((score,idx))\n",
    "    return matches\n",
    "\n",
    "def getcleanmetros(row):\n",
    "    # get best estimated metro nearby the flat from the flat description (row[-1])\n",
    "    # ok. This is tedious:\n",
    "    # 1) if no metros are found, return empty string\n",
    "    # 2) if there is only one possible metro (eg. if there is only one match with score> 50%, or one score >99%)\n",
    "    #    return the record. \n",
    "    # \n",
    "    # At this point the list 'out' contains multiple matches, we need to find out the best, and return it.\n",
    "    # 3) if the current location field (row[6]) contains a number (eg, arrondissement)\n",
    "    #    compares the arrondissment of the estimated train stations with the current estimated arrondissement, \n",
    "    #    and returns the best match\n",
    "    # 3a) NOTE: some train staions are not identified by a numerical arrondissement. see code for details\n",
    "    # 4) else: returns the metro with the highest score\n",
    "    #\n",
    "    # This function:\n",
    "    # returns the paris_metro_station record of the best match\n",
    "    # or an empty string\n",
    "    out = getmetros(row[-1])\n",
    "    \n",
    "    if not len(out):\n",
    "        return []\n",
    "    \n",
    "    if len(out) == 1:\n",
    "        j = out[0]\n",
    "        return paris_metro_stations[j[1]]\n",
    "    \n",
    "    if contains('123456789',row[6]):\n",
    "        # then we can match some arrondissmenent number, otherwise returns best match\n",
    "        results = []\n",
    "        score_old = 0\n",
    "        exception_triggered = False\n",
    "        for j in out:\n",
    "            arr = paris_metro_stations[j[1]][1]\n",
    "            try:    \n",
    "                arr /2 # test if number\n",
    "                score =  fuzwuz.fuzz.token_set_ratio(arr,row[6])\n",
    "                if score>score_old and score > 75:\n",
    "                    score_old = score\n",
    "                    results = paris_metro_stations[j[1]]\n",
    "            except Exception:\n",
    "                # in case we find nothing better, we will resort to a non numerical arrondissement :/\n",
    "                exception_triggered = j\n",
    "        if exception_triggered and not len(results):\n",
    "            return paris_metro_stations[exception_triggered[1]]\n",
    "        else:\n",
    "            return results\n",
    "    else:    \n",
    "        score_old = 0\n",
    "        results = []\n",
    "        for j in out:\n",
    "            score = j[0]\n",
    "            if score > score_old:\n",
    "                score_old = score\n",
    "                results = paris_metro_stations[j[1]]\n",
    "        return results\n",
    "# test on a record we had\n",
    "# getcleanmetros(Mj)"
   ]
  },
  {
   "cell_type": "code",
   "execution_count": 12,
   "metadata": {
    "collapsed": false
   },
   "outputs": [
    {
     "name": "stdout",
     "output_type": "stream",
     "text": [
      "\n"
     ]
    }
   ],
   "source": [
    "# Rewrite the new records, using the new regex to match the arrondissement\n",
    "# and location and metro finder\n",
    "# and the floor                                                             <-------- NOW\n",
    "from string import atoi\n",
    "import pandas as pd\n",
    "\n",
    "def replace(a,b,c):\n",
    "    #replace list a, with b (either const or list) in str(c)\n",
    "    c = unicode(c)\n",
    "    if len(b)>=len(a):\n",
    "        for _out,_in in zip(a,b):\n",
    "            c = c.replace(unicode(_in),unicode(_out))\n",
    "    else: \n",
    "        _out = unicode(b)\n",
    "        for _in in a:\n",
    "            c = c.replace(unicode(_in),_out)\n",
    "    return c.strip()\n",
    "\n",
    "def correct_encoding_CL(text):\n",
    "    # encoding of some french text is screwed up - this is a rough correction\n",
    "    # the dictionary is handpicked from the text\n",
    "    fr2en=[[u'aª','e'],\n",
    "     [u'ÃƒÂ','a'],\n",
    "     [u'a©','e'],\n",
    "     [u'a¨','e'],\n",
    "     [u'a®','i'],\n",
    "     [u'Ãƒâ€°','E'],\n",
    "     [u'Ã‚Â²','2'],\n",
    "     [u'aª','e'],\n",
    "     [u'a¹','u'],\n",
    "     [u'§','c'],\n",
    "     [u'\\xa0',''],\n",
    "     [u'Ã©','e'],\n",
    "     [u'\\xe8','e'],\n",
    "     [u'\\xe0','a']\n",
    "     ]\n",
    "    fr2en_b = [j[0] for j in fr2en]\n",
    "    fr2en_a = [j[1] for j in fr2en]\n",
    "    out = replace(fr2en_a,fr2en_b,c=text)\n",
    "#     out.encode('ascii') # activate to check that we know enough replacements..\n",
    "    return out\n",
    "\n",
    "def work1(apa):\n",
    "    apa=copy.deepcopy(apa)\n",
    "    apa[6] = extloc(apa[-1])\n",
    "    apa[6] = replace('.,/()[]{}!~?#@*&^%<>\\\\`\"\\'','',apa[6])\n",
    "    metros = getcleanmetros(apa)\n",
    "    # now clean the encoding -- dunno if it is good or bad to do it before the fuzzy matching\n",
    "    for i,newfeat in enumerate(apa):\n",
    "        apa[i]=correct_encoding_CL(newfeat)\n",
    "    \n",
    "    if not contains('123456789',apa[6]) and len(metros):\n",
    "        apa[6] += ' ' + metros[-1] + ' arrondissement'\n",
    "        apa[6].strip()\n",
    "        \n",
    "    if not len(metros):\n",
    "        # we did not find any metro, but still we want these fields in the table\n",
    "        metros=('',-1)\n",
    "    apa[7] = metros[0]\n",
    "    apa.insert(8,metros[1])\n",
    "    if not isinstance(apa[3],int):\n",
    "        apa[3]= atoi(apa[3][:-2])\n",
    "    if not isinstance(apa[4],int):\n",
    "        apa[4] = atoi(apa[4])\n",
    "    if not isinstance(apa[1],int):\n",
    "        apa[1] = atoi(apa[1])\n",
    "    \n",
    "    # floor\n",
    "    re_floor = re.compile('[^0-9]')\n",
    "    floor = apa[5]\n",
    "    floor = floor.lower().replace('ground','0')\n",
    "    floor = re_floor.sub('',floor) # strip text, leave numbers only\n",
    "    if not floor: floor = -1\n",
    "    else: floor = atoi(floor)\n",
    "    apa[5] = floor\n",
    "    return apa\n",
    "work1(Mj2)\n",
    "print "
   ]
  },
  {
   "cell_type": "markdown",
   "metadata": {
    "collapsed": false
   },
   "source": [
    "## Make one table from different-lenght lists"
   ]
  },
  {
   "cell_type": "code",
   "execution_count": 38,
   "metadata": {
    "collapsed": false
   },
   "outputs": [
    {
     "name": "stdout",
     "output_type": "stream",
     "text": [
      "['ins date', 'idx', 'url', 'sqm', 'price', 'floor', 'loc', 'metro', 'district', 'date in', 'text in', u'flat', u'apartment', u'carport', u'furnished', u'duplex', u'no smoking', u'street parking', u'house', u'laundry in bldg', u'w/d hookups', u'dogs are OK - wooof', u'w/d in unit', u'no parking', u'townhouse', u'no laundry on site', u'laundry on site', u'attached garage', u'wheelchair accessible', u'condo', u'off-street parking', 'title', 'desc']\n"
     ]
    }
   ],
   "source": [
    "unlisted_features = []\n",
    "unfeat_slice=slice(11,-2)\n",
    "for row in db2:\n",
    "    for feature in row[unfeat_slice]:\n",
    "        unlisted_features.append(feature)\n",
    "\n",
    "unlisted_features_set=set(unlisted_features)\n",
    "all_features_titles = ['ins date','idx','url','sqm','price','floor','loc','metro','district','date in','text in']\n",
    "features_suffix = len(all_features_titles)\n",
    "all_features_titles.extend(unlisted_features_set)\n",
    "all_features_titles.extend(['title','desc'])\n",
    "print all_features_titles"
   ]
  },
  {
   "cell_type": "code",
   "execution_count": 15,
   "metadata": {
    "collapsed": false
   },
   "outputs": [
    {
     "name": "stdout",
     "output_type": "stream",
     "text": []
    }
   ],
   "source": [
    "new_db = []\n",
    "count = 0\n",
    "\n",
    "for row in db2:\n",
    "    apa = work1(row)\n",
    "    features = apa[:features_suffix]\n",
    "    features.extend([j in apa[unfeat_slice] for j in unlisted_features_set])\n",
    "    features.extend(apa[-2:])\n",
    "    new_db.append(features)\n",
    "    \n",
    "    count += 1\n",
    "    print count,'\\r',"
   ]
  },
  {
   "cell_type": "markdown",
   "metadata": {},
   "source": [
    "## Save to hdf5 \n",
    "We save to hdf5 that is easy enough to handle (and to corrupt, seriously).\n",
    "\n",
    "We now have quite a bit of features per each flat. \n",
    "Some columns are clearly correlated: eg all the parking stuff.. but let's try to get something done nonetheless"
   ]
  },
  {
   "cell_type": "code",
   "execution_count": 33,
   "metadata": {
    "collapsed": false
   },
   "outputs": [],
   "source": [
    "import pandas as pd\n",
    "dataframe = pd.DataFrame(data=new_db, columns=all_features_titles)\n",
    "dataframe.to_hdf('data/CL_flats.h5','CL_flats')"
   ]
  },
  {
   "cell_type": "code",
   "execution_count": 31,
   "metadata": {
    "collapsed": false
   },
   "outputs": [
    {
     "name": "stdout",
     "output_type": "stream",
     "text": [
      "Index([             u'ins date',                   u'idx',\n",
      "                         u'url',                   u'sqm',\n",
      "                       u'price',                 u'floor',\n",
      "                         u'loc',                 u'metro',\n",
      "                    u'district',               u'date in',\n",
      "                     u'text in',                  u'flat',\n",
      "                   u'apartment',               u'carport',\n",
      "                   u'furnished',                u'duplex',\n",
      "                  u'no smoking',        u'street parking',\n",
      "                       u'house',       u'laundry in bldg',\n",
      "                 u'w/d hookups',   u'dogs are OK - wooof',\n",
      "                 u'w/d in unit',            u'no parking',\n",
      "                   u'townhouse',    u'no laundry on site',\n",
      "             u'laundry on site',       u'attached garage',\n",
      "       u'wheelchair accessible',                 u'condo',\n",
      "          u'off-street parking',                 u'title',\n",
      "                        u'desc'],\n",
      "      dtype='object')\n"
     ]
    }
   ],
   "source": [
    "cols=dataframe.columns\n",
    "print cols"
   ]
  },
  {
   "cell_type": "markdown",
   "metadata": {
    "collapsed": true
   },
   "source": [
    "### A style"
   ]
  },
  {
   "cell_type": "code",
   "execution_count": 1,
   "metadata": {
    "collapsed": false
   },
   "outputs": [
    {
     "data": {
      "text/html": [
       "\n",
       "<style>.container{\n",
       "   max-width:80% !important;\n",
       "}\n",
       "\n",
       "\n",
       "div.output_area img {\n",
       "    max-width:100% !important;\n",
       "    text-align: center !important;\n",
       "    align: center !important;\n",
       "}\n",
       "div.output_area {\n",
       "    text-align: center;\n",
       "    align: center;\n",
       "}\n",
       "\n",
       ".CodeMirror{\n",
       "   font-size: 12px !important;\n",
       "}\n",
       "\n",
       "#img_nav:hover{\n",
       "   right:0;\n",
       "}\n",
       "\n",
       "#img_nav{\n",
       "z-index:99999;\n",
       "position:fixed;\n",
       "bottom:10%;\n",
       "right:-45ex;\n",
       "background-color:#505050;\n",
       "background-image: url('https://cloud.githubusercontent.com/assets/10552313/11657076/20983870-9dba-11e5-82df-89d44663ad40.png');\n",
       "background-repeat: no-repeat;\n",
       "/*background-attachment: fixed;*/\n",
       "background-position: top left;\n",
       "background-size:4ex 4ex;\n",
       "width:50ex;\n",
       "max-height:70%;\n",
       "\n",
       "overflow-x:hidden;\n",
       "padding:5px !important;\n",
       "padding-left:5ex !important;\n",
       "font-size:15px;\n",
       "/*border-radius: 5px !important; */\n",
       "/*border:2px solid #505050;*/\n",
       "box-shadow:2px 2px 2px 2px rgba(87, 87, 87, 0.2);\n",
       "transition: right 0.2s linear;\n",
       "}\n",
       "\n",
       "#thumb_nav{\n",
       "max-width:55px;\n",
       "max-height:55px;\n",
       "display: inline;\n",
       "background-color:rgb(255,255,255) !important;\n",
       "}\n",
       "\n",
       "#toc{\n",
       "z-index:99999;\n",
       "position:fixed;\n",
       "bottom:10%;\n",
       "left:-45ex;\n",
       "background-color:#505050;\n",
       "/*a temporary icon*/\n",
       "background-image: url('https://cloud.githubusercontent.com/assets/10552313/11657076/20983870-9dba-11e5-82df-89d44663ad40.png');\n",
       "background-repeat: no-repeat;\n",
       "/*background-attachment: fixed;*/\n",
       "background-position: top right;\n",
       "background-size:4ex 4ex;\n",
       "width:50ex !important;\n",
       "max-height:70%;\n",
       "overflow-x:hidden;\n",
       "padding:5px !important;\n",
       "font-size:13px;\n",
       "/*border-radius: 5px !important; */\n",
       "/*border:2px solid #505050;*/\n",
       "box-shadow:2px 2px 2px 2px rgba(87, 87, 87, 0.2);\n",
       "transition: left 0.2s linear;\n",
       "\n",
       "}\n",
       "\n",
       "#toc:hover{\n",
       "   /*background-image: url('');*/\n",
       "   left:0ex;\n",
       "}\n",
       "#toc a{\n",
       "    text-decoration: none!important;\n",
       "    color:#ffffff !important;\n",
       "}\n",
       "#toc a:hover{\n",
       "    text-decoration: underline!important;\n",
       "    color:#ffffff !important;\n",
       "}\n",
       "\n",
       "div#notebook{\n",
       "/*margin-top:50px;*/\n",
       "margin-bottom:100px;\n",
       "}\n",
       "\n",
       "div.cell{\n",
       "width:100% ! important;\n",
       "max-width:100% ! important;\n",
       "margin-left:auto;\n",
       "margin-right:auto;\n",
       "}\n",
       "\n",
       "div.input, div.output_wrapper{\n",
       "margin-top:0em;\n",
       "margin-bottom:0em;\n",
       "}\n",
       "div.output_wrapper{\n",
       "  margin-bottom: 1em;\n",
       "}\n",
       "\n",
       "div.text_cell{\n",
       "margin-top:-2px;\n",
       "margin-bottom:-2px;\n",
       "padding-top:2px;\n",
       "padding-bottom:2px;\n",
       "/*border-left:2px solid #505050;*/\n",
       "border-collapse:collapse;\n",
       "border-top:none;\n",
       "border-bottom:none;\n",
       "/*border-right:20px solid #505050 !important;*/\n",
       "max-height:none !important;\n",
       "overflow-y:none !important;\n",
       "/*max-width:60em !important;*/\n",
       "}\n",
       "\n",
       "html {\n",
       "  font-size: 11pt !important; }\n",
       "body {\n",
       "  font-size: 11pt !important; /* currently ems cause chrome bug misinterpreting rems on body element */\n",
       "  /*line-height: 1.6 !important;*/\n",
       "  font-weight: 400 !important;\n",
       "  /*font-family: \"Railway\", \"HelveticaNeue\", \"Helvetica Neue\", Helvetica, Arial, sans-serif !important;*/\n",
       "  /*color: #ffff00 !important; */\n",
       "}\n",
       "\n",
       "div.CodeMirror-sizer{ background: rgb(244, 244, 248) !important; }\n",
       "div.input_area{ background: rgb(244, 244, 248) !important; }\n",
       "\n",
       "div.out_prompt_overlay:hover{ background: rgb(244, 244, 248) !important; }\n",
       "div.input_prompt:hover{ background: rgb(244, 244, 248) !important; }\n",
       "\n",
       ".prompt {\n",
       "    padding     :0px !important;\n",
       "    min-width   :9ex!important;\n",
       "}\n",
       "\n",
       "/*}*/\n",
       "h1, h2, h3, h4, h5, h6 {\n",
       "  align: center !important;\n",
       "  text-align: center !important;\n",
       "  color: #333 !important;\n",
       "  margin-top: 1em !important;\n",
       "  /*margin-bottom: 2rem !important;*/\n",
       "  font-weight: 300 !important;\n",
       "  border-bottom: 1px solid;}\n",
       "\n",
       "h1 { font-size: 3.0rem !important; line-height: 1.2 !important;  letter-spacing: -.1rem !important;\n",
       "    /*text-decoration: underline !important;*/\n",
       "}\n",
       "h2 { font-size: 2.6rem !important; line-height: 1.25 !important; letter-spacing: -.1rem !important; }\n",
       "h3 { font-size: 2.0rem !important; line-height: 1.3 !important;  letter-spacing: -.1rem !important; }\n",
       "h4 { font-size: 1.4rem !important; line-height: 1.35 !important; letter-spacing: -.08rem !important; }\n",
       "h5 { font-size: 0.8rem !important; line-height: 1.5 !important;  letter-spacing: -.05rem !important; }\n",
       "h6 { font-size: 0.5rem !important; line-height: 1.6 !important;  letter-spacing: 0 !important; }\n",
       "\n",
       "\n",
       "/*\n",
       "p {\n",
       "  margin-top: 0 !important; }*/\n",
       "\n",
       "a {\n",
       "  color: #1EAEDB !important; }\n",
       "a:hover {\n",
       "  color: #0FA0CE !important; }\n",
       "\n",
       "code {\n",
       "  padding: .2rem .5rem !important;\n",
       "  margin: 0 .2rem !important;\n",
       "  font-size: 90% !important;\n",
       "  white-space: nowrap !important;\n",
       "  background: #F1F1F1 !important;\n",
       "  /*border: 1px solid #E1E1E1 !important;*/\n",
       "  /*border-radius: 4px !important; */}\n",
       "pre > code {\n",
       "  display: block !important;\n",
       "  padding: 1rem 1.5rem !important;\n",
       "  white-space: pre !important; }\n",
       "\n",
       "button{ /*border-radius: 0px !important;*/ }\n",
       ".navbar-inner{ background-image: none !important;  }\n",
       "select, textarea{ border-radius: 0px !important; }\n",
       "\n",
       "/*HIDE PROMPTS*/\n",
       "div.prompt{\n",
       "  display:none;\n",
       "}\n",
       "div.output_subarea{\n",
       "    max-width : 100% !important;\n",
       "}\n",
       "div.input, div.output, div.rendered_html{\n",
       "  width : 80% !important;\n",
       "  align: center !important;\n",
       "  margin-left : 10% !important;\n",
       "}\n",
       "div.input, div.output{\n",
       "  background-color : #eee !important;\n",
       "}\n",
       "/*------------------------------*/\n",
       "</style>\n"
      ],
      "text/plain": [
       "<IPython.core.display.HTML object>"
      ]
     },
     "execution_count": 1,
     "metadata": {},
     "output_type": "execute_result"
    }
   ],
   "source": [
    "from IPython.display import HTML\n",
    "import urllib2\n",
    "\n",
    "style=open('style.css','r').read()\n",
    "HTML(\"\"\"\n",
    "<style>{0}</style>\n",
    "\"\"\".format(style))"
   ]
  },
  {
   "cell_type": "code",
   "execution_count": null,
   "metadata": {
    "collapsed": true
   },
   "outputs": [],
   "source": []
  }
 ],
 "metadata": {
  "anaconda-cloud": {},
  "kernelspec": {
   "display_name": "Python [default]",
   "language": "python",
   "name": "python2"
  },
  "language_info": {
   "codemirror_mode": {
    "name": "ipython",
    "version": 2
   },
   "file_extension": ".py",
   "mimetype": "text/x-python",
   "name": "python",
   "nbconvert_exporter": "python",
   "pygments_lexer": "ipython2",
   "version": "2.7.12"
  }
 },
 "nbformat": 4,
 "nbformat_minor": 0
}
