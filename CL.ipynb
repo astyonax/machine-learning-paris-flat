{
 "cells": [
  {
   "cell_type": "markdown",
   "metadata": {},
   "source": [
    "# Web scraping for flats"
   ]
  },
  {
   "cell_type": "code",
   "execution_count": 1,
   "metadata": {
    "collapsed": true
   },
   "outputs": [],
   "source": [
    "import urllib\n",
    "from pprint import pprint\n",
    "from bs4 import BeautifulSoup as BS"
   ]
  },
  {
   "cell_type": "code",
   "execution_count": 2,
   "metadata": {
    "collapsed": true
   },
   "outputs": [],
   "source": [
    "# ---------------------------------------\n",
    "#             get the 1st 100\n",
    "base_url='http://paris.craigslist.fr'\n",
    "CL_paris_apa_rss=\"\"\n",
    "# ----------------------------------------\n",
    "#            a shortcut\n",
    "urlget = urllib.urlopen"
   ]
  },
  {
   "cell_type": "markdown",
   "metadata": {},
   "source": [
    "## Downlad page number \n",
    "\n",
    "The default search criteria are for flats with 1 bedroom, size > 10 sqm, in Paris.\n",
    "The function returns the `Beautifulsoup`-ped HTML of a given page.\n",
    "Each page contains a list of flats."
   ]
  },
  {
   "cell_type": "code",
   "execution_count": 613,
   "metadata": {
    "collapsed": false
   },
   "outputs": [],
   "source": [
    "def get_page_from_url(pgnr,base_url):\n",
    "    CL_paris_apa_html=\"{0:s}/search/apa?lang=en&cc=gb&bedrooms=1&minSqft=10&s={1:d}\".format(base_url,pgnr)\n",
    "    try:\n",
    "        CL_html = urlget(CL_paris_apa_html).read()\n",
    "    except IOError: # in case of network error\n",
    "        CL_html = ''\n",
    "    return BS(CL_html)\n",
    "human_page=get_page_from_url(0,base_url)"
   ]
  },
  {
   "cell_type": "markdown",
   "metadata": {},
   "source": [
    "## List flats urls from page\n",
    "\n",
    "From each page given by the previous function, we record the list of flats, their publication date, and pid."
   ]
  },
  {
   "cell_type": "code",
   "execution_count": 614,
   "metadata": {
    "collapsed": false
   },
   "outputs": [
    {
     "data": {
      "text/plain": [
       "('2016-07-24 22:05',\n",
       " '5685419671',\n",
       " 'http://paris.craigslist.fr/apa/5685419671.html')"
      ]
     },
     "execution_count": 614,
     "metadata": {},
     "output_type": "execute_result"
    }
   ],
   "source": [
    "def get_listings_from_html(human_page,base_url):\n",
    "    main_listing=human_page.findAll('div',attrs={'id':'sortable-results'})[0]\n",
    "    each_apa=main_listing.findAll('p',attrs={\"class\":'row'})\n",
    "    results=[]\n",
    "    for apa in each_apa:\n",
    "        time = apa.time['datetime']\n",
    "        pid = apa['data-pid']\n",
    "        url= '{0:s}/apa/{1:s}.html'.format(base_url,pid)\n",
    "        results.append((time,pid,url))\n",
    "    return results\n",
    "apas=get_listings_from_html(human_page,base_url)\n",
    "apas[0]"
   ]
  },
  {
   "cell_type": "markdown",
   "metadata": {},
   "source": [
    "## From flat url to flat record\n",
    "\n",
    "We have the urls of all flats listed in CL.. well, we have the functions to get the urls, the actual work will be done at the end.\n",
    "Finally, we can get the informations out of each flat individual page. This is really boring, but needed. The results is a list of features for each flat. These features will need further refinement, that I will do in future notebooks"
   ]
  },
  {
   "cell_type": "code",
   "execution_count": 615,
   "metadata": {
    "collapsed": false
   },
   "outputs": [],
   "source": [
    "# -----------------------------------------------------------------------------\n",
    "#                 MATCH SOME INFO with regex magics\n",
    "import re\n",
    "re_rue = re.compile(r'(?:rue|avenue|boulevard) .*?[\\d,.]+[^.,]*?',re.IGNORECASE)\n",
    "re_arr1 = re.compile(r'(Paris \\d{1,2}\\s*(?:th|st|nd|rd){0,1})',re.IGNORECASE)\n",
    "re_arr2 = re.compile(r'(\\d{1,2}\\s*(?:th|st|nd|rd){0,1} arr.*)',re.IGNORECASE)\n",
    "re_metro = re.compile(r'Metro\\s*(?:station|line)\\s*.+?[\\s|$]',re.IGNORECASE|re.MULTILINE)\n",
    "re_floor = re.compile(r'(?:ground|\\d+|\\d+[a-z]{2,2})\\s*floor',re.IGNORECASE|re.MULTILINE)\n",
    "\n",
    "get_floor = lambda x: ', '.join(re_floor.findall(x))\n",
    "get_metro = lambda x: ', '.join(re_metro.findall(x))\n",
    "\n",
    "def extloc(text):\n",
    "    _=''\n",
    "    for rg in (re_rue,re_arr1,re_arr2):\n",
    "        out = rg.findall(text)\n",
    "        _+=', '.join(out)\n",
    "    return _\n",
    "\n",
    "# -----------------------------------------------------------------------------\n",
    "#                 REMOVE DOUBLE ENTER\n",
    "no_doubleenter = re.compile('\\n{2,}',re.MULTILINE)\n",
    "# =============================================================================\n",
    "def findgetremove(token,lst):\n",
    "    token = token.lower()\n",
    "    for i,j in enumerate(lst):\n",
    "        if token in j.lower():\n",
    "            lst.pop(i)\n",
    "            return j\n",
    "    return ''\n",
    "\n",
    "def apafeatures(apainfo):\n",
    "#     try:\n",
    "    url = apainfo[2]\n",
    "    apa=BS(urlget(url).read())\n",
    "\n",
    "    features_raw = apa.findAll('div',attrs={'class':'mapAndAttrs'})[0].findAll('span')\n",
    "    features =  map(lambda x:x.text, features_raw)\n",
    "\n",
    "    shortdesc =  findgetremove('Br',features)\n",
    "    size = findgetremove('m2',features)\n",
    "    movein = apa.findAll('div',attrs={'class':'mapAndAttrs'})[0].find('span',attrs={'class':'housing_movein_now'})['date']\n",
    "    desc_raw = apa.findAll('section',attrs={'id':'postingbody'})[0].text.strip()\n",
    "    desc_raw = no_doubleenter.sub('\\n',desc_raw)\n",
    "    price = apa.find('span',attrs={'class':'price'}).text[1:]\n",
    "    title =  apa.find('span',attrs={'id':'titletextonly'}).text\n",
    "    desc_raw = title + '\\n' + desc_raw\n",
    "\n",
    "    floor = get_floor(desc_raw)\n",
    "    metro = get_metro(desc_raw)\n",
    "    #location is a bit complex -- let's put togheter more info from the title\n",
    "    try:\n",
    "        loc = apa.find('span',attrs={'class':'postingtitletext'}).small.text.strip()\n",
    "    except  AttributeError:\n",
    "        loc = ''\n",
    "    if u'\\u20ac' in loc or loc == '': \n",
    "        loc = extloc(desc_raw)\n",
    "    else:\n",
    "        loc += ', '+ extloc(title)\n",
    "\n",
    "    out = list(apainfo)\n",
    "    out += [size,price,floor,loc,metro,movein]\n",
    "    out.extend(features)\n",
    "    out += [title,desc_raw]\n",
    "  \n",
    "    return out"
   ]
  },
  {
   "cell_type": "markdown",
   "metadata": {},
   "source": [
    "## A memoizing page getter\n",
    "As the docstring says: `sort of memoizing for apafeatures, specialized for the apas tuple`.\n",
    "\n",
    "This class saves its cache as pickle"
   ]
  },
  {
   "cell_type": "code",
   "execution_count": 620,
   "metadata": {
    "collapsed": false
   },
   "outputs": [],
   "source": [
    "import cPickle as pkl\n",
    "from datetime import datetime as DT\n",
    "import os\n",
    "class get_features_cache(object):\n",
    "    \"\"\"\n",
    "        sort of memoizing for apafeatures, specialized for the apas tuple\n",
    "    \"\"\"\n",
    "    def __init__(self,fname,maxdt=-1):\n",
    "        self.fname=fname\n",
    "        try:\n",
    "            self.db=pkl.load(open(fname,'rb'))\n",
    "        except IOError:\n",
    "            self.db=[]\n",
    "        self.clids=[j[1] for j in self.db]\n",
    "        self.dirty = 0\n",
    "    def __call__(self,apainfo):\n",
    "        _,clid,url=apainfo\n",
    "        # check if this app was already retrieved\n",
    "        if clid in self.clids:\n",
    "            #TODO check if retrieved version is too old/invalid\n",
    "            return self.db[self.clids.index(clid)]\n",
    "        else:\n",
    "            #retrieve data, store, update self.clids, and finally return\n",
    "            out = apafeatures(apainfo)\n",
    "            \n",
    "            self.clids.append(clid)\n",
    "            self.db.append(out)\n",
    "            self.dirty = 1\n",
    "            return out\n",
    "    def __len__(self):\n",
    "        return len(self.db)\n",
    "    \n",
    "    def __del__(self):\n",
    "        self._save()\n",
    "        \n",
    "    def _save(self):\n",
    "        if self.dirty:\n",
    "            print \"saving apas db\"\n",
    "            print \"db rows: {0:d}\".format(len(self.db))\n",
    "            pkl.dump(self.db,open(self.fname,'wb'))\n",
    "            self.dirty = 0\n",
    "\n",
    "apagetter = get_features_cache(fname='data/locations.pkl',)"
   ]
  },
  {
   "cell_type": "markdown",
   "metadata": {},
   "source": [
    "## Ask pages at random times\n",
    "\n",
    "This is class that behaves as a function (see the `__call__`) that waits a random time before retrieving the requested URL.\n",
    "The waiting time is sampled from a Poisson distribution."
   ]
  },
  {
   "cell_type": "code",
   "execution_count": 617,
   "metadata": {
    "collapsed": true
   },
   "outputs": [],
   "source": [
    "# ----------------------------------------------------------\n",
    "#            Poissonian waiting time in the urlget function\n",
    "class urlgetter(object):\n",
    "    def __init__(self,waiting_time):\n",
    "        self.mean=waiting_time\n",
    "        \n",
    "    def __call__(self,url):\n",
    "        import time\n",
    "        #waiting time [s]\n",
    "        wt = self.poisson()\n",
    "        time.sleep(wt)\n",
    "        return urllib.urlopen(url)\n",
    "    \n",
    "    def poisson(self):\n",
    "        from math import log\n",
    "        from random import random\n",
    "        return -log(1.0 - random()) / self.mean\n"
   ]
  },
  {
   "cell_type": "markdown",
   "metadata": {},
   "source": [
    "## Put all togheter\n",
    "\n",
    "The culprit of all these efforts, the loop that rules them all, where the  work is  truly done."
   ]
  },
  {
   "cell_type": "code",
   "execution_count": 1,
   "metadata": {
    "collapsed": false
   },
   "outputs": [
    {
     "ename": "NameError",
     "evalue": "name 'get_features_cache' is not defined",
     "output_type": "error",
     "traceback": [
      "\u001b[0;31m---------------------------------------------------------------------------\u001b[0m",
      "\u001b[0;31mNameError\u001b[0m                                 Traceback (most recent call last)",
      "\u001b[0;32m<ipython-input-1-fd90b83732aa>\u001b[0m in \u001b[0;36m<module>\u001b[0;34m()\u001b[0m\n\u001b[1;32m      1\u001b[0m \u001b[0mpages\u001b[0m\u001b[0;34m=\u001b[0m\u001b[0mrange\u001b[0m\u001b[0;34m(\u001b[0m\u001b[0;36m0\u001b[0m\u001b[0;34m,\u001b[0m\u001b[0;36m1000\u001b[0m\u001b[0;34m,\u001b[0m\u001b[0;36m100\u001b[0m\u001b[0;34m)\u001b[0m\u001b[0;34m\u001b[0m\u001b[0m\n\u001b[0;32m----> 2\u001b[0;31m \u001b[0mapagetter\u001b[0m \u001b[0;34m=\u001b[0m \u001b[0mget_features_cache\u001b[0m\u001b[0;34m(\u001b[0m\u001b[0mfname\u001b[0m\u001b[0;34m=\u001b[0m\u001b[0;34m'data/locations.pkl'\u001b[0m\u001b[0;34m,\u001b[0m\u001b[0;34m)\u001b[0m\u001b[0;34m\u001b[0m\u001b[0m\n\u001b[0m\u001b[1;32m      3\u001b[0m \u001b[0;32mprint\u001b[0m \u001b[0;34m'db {0:s} contains {1:d} locations'\u001b[0m\u001b[0;34m.\u001b[0m\u001b[0mformat\u001b[0m\u001b[0;34m(\u001b[0m\u001b[0mapagetter\u001b[0m\u001b[0;34m.\u001b[0m\u001b[0mfname\u001b[0m\u001b[0;34m,\u001b[0m\u001b[0mlen\u001b[0m\u001b[0;34m(\u001b[0m\u001b[0mapagetter\u001b[0m\u001b[0;34m)\u001b[0m\u001b[0;34m)\u001b[0m\u001b[0;34m\u001b[0m\u001b[0m\n\u001b[1;32m      4\u001b[0m \u001b[0murlget\u001b[0m \u001b[0;34m=\u001b[0m \u001b[0murlgetter\u001b[0m\u001b[0;34m(\u001b[0m\u001b[0;36m1\u001b[0m\u001b[0;34m/\u001b[0m\u001b[0;36m.5\u001b[0m\u001b[0;34m)\u001b[0m\u001b[0;34m\u001b[0m\u001b[0m\n\u001b[1;32m      5\u001b[0m \u001b[0mfailed\u001b[0m\u001b[0;34m=\u001b[0m\u001b[0;34m[\u001b[0m\u001b[0;34m]\u001b[0m\u001b[0;34m\u001b[0m\u001b[0m\n",
      "\u001b[0;31mNameError\u001b[0m: name 'get_features_cache' is not defined"
     ]
    }
   ],
   "source": [
    "pages=range(0,1000,100)\n",
    "apagetter = get_features_cache(fname='data/locations.pkl',)\n",
    "print 'db {0:s} contains {1:d} locations'.format(apagetter.fname,len(apagetter))\n",
    "urlget = urlgetter(1/.5)\n",
    "failed=[]\n",
    "for page in pages:\n",
    "    human_page=get_page_from_url(page,base_url)\n",
    "    apas=get_listings_from_html(human_page,base_url)\n",
    "    print 'page x 100', page,len(apas)\n",
    "    if not len(apas): break\n",
    "    for apa in apas:\n",
    "        last = apa\n",
    "        try:\n",
    "            _ = apagetter(apa)\n",
    "        except:\n",
    "            failed.append(apa)\n",
    "            print 'failed {0:s}'.format(apa)\n",
    "    \n",
    "apagetter._save()"
   ]
  },
  {
   "cell_type": "code",
   "execution_count": 623,
   "metadata": {
    "collapsed": false
   },
   "outputs": [
    {
     "name": "stdout",
     "output_type": "stream",
     "text": [
      "db locations.pkl contains 601 locations\n"
     ]
    }
   ],
   "source": [
    "print 'db {0:s} contains {1:d} locations'.format(apagetter.fname,len(apagetter))"
   ]
  },
  {
   "cell_type": "markdown",
   "metadata": {},
   "source": [
    "## Styling <<to 'elp the medicine go down>>"
   ]
  },
  {
   "cell_type": "code",
   "execution_count": 1,
   "metadata": {
    "collapsed": false
   },
   "outputs": [
    {
     "data": {
      "text/html": [
       "\n",
       "<style>.container{\n",
       "   max-width:80% !important;\n",
       "}\n",
       "\n",
       "\n",
       "div.output_area img {\n",
       "    max-width:100% !important;\n",
       "    text-align: center !important;\n",
       "    align: center !important;\n",
       "}\n",
       "div.output_area {\n",
       "    text-align: center;\n",
       "    align: center;\n",
       "}\n",
       "\n",
       ".CodeMirror{\n",
       "   font-size: 12px !important;\n",
       "}\n",
       "\n",
       "#img_nav:hover{\n",
       "   right:0;\n",
       "}\n",
       "\n",
       "#img_nav{\n",
       "z-index:99999;\n",
       "position:fixed;\n",
       "bottom:10%;\n",
       "right:-45ex;\n",
       "background-color:#505050;\n",
       "background-image: url('https://cloud.githubusercontent.com/assets/10552313/11657076/20983870-9dba-11e5-82df-89d44663ad40.png');\n",
       "background-repeat: no-repeat;\n",
       "/*background-attachment: fixed;*/\n",
       "background-position: top left;\n",
       "background-size:4ex 4ex;\n",
       "width:50ex;\n",
       "max-height:70%;\n",
       "\n",
       "overflow-x:hidden;\n",
       "padding:5px !important;\n",
       "padding-left:5ex !important;\n",
       "font-size:15px;\n",
       "/*border-radius: 5px !important; */\n",
       "/*border:2px solid #505050;*/\n",
       "box-shadow:2px 2px 2px 2px rgba(87, 87, 87, 0.2);\n",
       "transition: right 0.2s linear;\n",
       "}\n",
       "\n",
       "#thumb_nav{\n",
       "max-width:55px;\n",
       "max-height:55px;\n",
       "display: inline;\n",
       "background-color:rgb(255,255,255) !important;\n",
       "}\n",
       "\n",
       "#toc{\n",
       "z-index:99999;\n",
       "position:fixed;\n",
       "bottom:10%;\n",
       "left:-45ex;\n",
       "background-color:#505050;\n",
       "/*a temporary icon*/\n",
       "background-image: url('https://cloud.githubusercontent.com/assets/10552313/11657076/20983870-9dba-11e5-82df-89d44663ad40.png');\n",
       "background-repeat: no-repeat;\n",
       "/*background-attachment: fixed;*/\n",
       "background-position: top right;\n",
       "background-size:4ex 4ex;\n",
       "width:50ex !important;\n",
       "max-height:70%;\n",
       "overflow-x:hidden;\n",
       "padding:5px !important;\n",
       "font-size:13px;\n",
       "/*border-radius: 5px !important; */\n",
       "/*border:2px solid #505050;*/\n",
       "box-shadow:2px 2px 2px 2px rgba(87, 87, 87, 0.2);\n",
       "transition: left 0.2s linear;\n",
       "\n",
       "}\n",
       "\n",
       "#toc:hover{\n",
       "   /*background-image: url('');*/\n",
       "   left:0ex;\n",
       "}\n",
       "#toc a{\n",
       "    text-decoration: none!important;\n",
       "    color:#ffffff !important;\n",
       "}\n",
       "#toc a:hover{\n",
       "    text-decoration: underline!important;\n",
       "    color:#ffffff !important;\n",
       "}\n",
       "\n",
       "div#notebook{\n",
       "/*margin-top:50px;*/\n",
       "margin-bottom:100px;\n",
       "}\n",
       "\n",
       "div.cell{\n",
       "width:100% ! important;\n",
       "max-width:100% ! important;\n",
       "margin-left:auto;\n",
       "margin-right:auto;\n",
       "}\n",
       "\n",
       "div.input, div.output_wrapper{\n",
       "margin-top:0em;\n",
       "margin-bottom:0em;\n",
       "}\n",
       "div.output_wrapper{\n",
       "  margin-bottom: 1em;\n",
       "}\n",
       "\n",
       "div.text_cell{\n",
       "margin-top:-2px;\n",
       "margin-bottom:-2px;\n",
       "padding-top:2px;\n",
       "padding-bottom:2px;\n",
       "/*border-left:2px solid #505050;*/\n",
       "border-collapse:collapse;\n",
       "border-top:none;\n",
       "border-bottom:none;\n",
       "/*border-right:20px solid #505050 !important;*/\n",
       "max-height:none !important;\n",
       "overflow-y:none !important;\n",
       "/*max-width:60em !important;*/\n",
       "}\n",
       "\n",
       "html {\n",
       "  font-size: 11pt !important; }\n",
       "body {\n",
       "  font-size: 11pt !important; /* currently ems cause chrome bug misinterpreting rems on body element */\n",
       "  /*line-height: 1.6 !important;*/\n",
       "  font-weight: 400 !important;\n",
       "  /*font-family: \"Railway\", \"HelveticaNeue\", \"Helvetica Neue\", Helvetica, Arial, sans-serif !important;*/\n",
       "  /*color: #ffff00 !important; */\n",
       "}\n",
       "\n",
       "div.CodeMirror-sizer{ background: rgb(244, 244, 248) !important; }\n",
       "div.input_area{ background: rgb(244, 244, 248) !important; }\n",
       "\n",
       "div.out_prompt_overlay:hover{ background: rgb(244, 244, 248) !important; }\n",
       "div.input_prompt:hover{ background: rgb(244, 244, 248) !important; }\n",
       "\n",
       ".prompt {\n",
       "    padding     :0px !important;\n",
       "    min-width   :9ex!important;\n",
       "}\n",
       "\n",
       "/*}*/\n",
       "h1, h2, h3, h4, h5, h6 {\n",
       "  align: center !important;\n",
       "  text-align: center !important;\n",
       "  color: #333 !important;\n",
       "  margin-top: 1em !important;\n",
       "  /*margin-bottom: 2rem !important;*/\n",
       "  font-weight: 300 !important;\n",
       "  border-bottom: 1px solid;}\n",
       "\n",
       "h1 { font-size: 3.0rem !important; line-height: 1.2 !important;  letter-spacing: -.1rem !important;\n",
       "    /*text-decoration: underline !important;*/\n",
       "}\n",
       "h2 { font-size: 2.6rem !important; line-height: 1.25 !important; letter-spacing: -.1rem !important; }\n",
       "h3 { font-size: 2.0rem !important; line-height: 1.3 !important;  letter-spacing: -.1rem !important; }\n",
       "h4 { font-size: 1.4rem !important; line-height: 1.35 !important; letter-spacing: -.08rem !important; }\n",
       "h5 { font-size: 0.8rem !important; line-height: 1.5 !important;  letter-spacing: -.05rem !important; }\n",
       "h6 { font-size: 0.5rem !important; line-height: 1.6 !important;  letter-spacing: 0 !important; }\n",
       "\n",
       "\n",
       "/*\n",
       "p {\n",
       "  margin-top: 0 !important; }*/\n",
       "\n",
       "a {\n",
       "  color: #1EAEDB !important; }\n",
       "a:hover {\n",
       "  color: #0FA0CE !important; }\n",
       "\n",
       "code {\n",
       "  padding: .2rem .5rem !important;\n",
       "  margin: 0 .2rem !important;\n",
       "  font-size: 90% !important;\n",
       "  white-space: nowrap !important;\n",
       "  background: #F1F1F1 !important;\n",
       "  /*border: 1px solid #E1E1E1 !important;*/\n",
       "  /*border-radius: 4px !important; */}\n",
       "pre > code {\n",
       "  display: block !important;\n",
       "  padding: 1rem 1.5rem !important;\n",
       "  white-space: pre !important; }\n",
       "\n",
       "button{ /*border-radius: 0px !important;*/ }\n",
       ".navbar-inner{ background-image: none !important;  }\n",
       "select, textarea{ border-radius: 0px !important; }\n",
       "\n",
       "/*HIDE PROMPTS*/\n",
       "div.prompt{\n",
       "  display:none;\n",
       "}\n",
       "div.output_subarea{\n",
       "    max-width : 100% !important;\n",
       "}\n",
       "div.input, div.output, div.rendered_html{\n",
       "  width : 80% !important;\n",
       "  align: center !important;\n",
       "  margin-left : 10% !important;\n",
       "}\n",
       "div.input, div.output{\n",
       "  background-color : #eee !important;\n",
       "}\n",
       "/*------------------------------*/\n",
       "</style>\n"
      ],
      "text/plain": [
       "<IPython.core.display.HTML object>"
      ]
     },
     "execution_count": 1,
     "metadata": {},
     "output_type": "execute_result"
    }
   ],
   "source": [
    "from IPython.display import HTML\n",
    "import urllib2\n",
    "\n",
    "style=open('style.css','r').read()\n",
    "HTML(\"\"\"\n",
    "<style>{0}</style>\n",
    "\"\"\".format(style))"
   ]
  }
 ],
 "metadata": {
  "kernelspec": {
   "display_name": "Python 2",
   "language": "python",
   "name": "python2"
  },
  "language_info": {
   "codemirror_mode": {
    "name": "ipython",
    "version": 2
   },
   "file_extension": ".py",
   "mimetype": "text/x-python",
   "name": "python",
   "nbconvert_exporter": "python",
   "pygments_lexer": "ipython2",
   "version": "2.7.12"
  }
 },
 "nbformat": 4,
 "nbformat_minor": 0
}
